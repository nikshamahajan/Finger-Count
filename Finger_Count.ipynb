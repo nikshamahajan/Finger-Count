{
  "nbformat": 4,
  "nbformat_minor": 0,
  "metadata": {
    "colab": {
      "provenance": []
    },
    "kernelspec": {
      "name": "python3",
      "display_name": "Python 3"
    },
    "language_info": {
      "name": "python"
    }
  },
  "cells": [
    {
      "cell_type": "code",
      "execution_count": null,
      "metadata": {
        "id": "GQ9M07cutmnS"
      },
      "outputs": [],
      "source": [
        "import cv2\n",
        "import numpy as np\n",
        "\n",
        "\n",
        "from sklearn.metrics import pairwise"
      ]
    },
    {
      "cell_type": "code",
      "source": [
        "background=None\n",
        "\n",
        "accumulated_weight=0.5\n",
        "\n",
        "roi_top=20\n",
        "roi_bottom=300\n",
        "roi_right=300\n",
        "roi_left=600\n",
        "\n",
        "\n"
      ],
      "metadata": {
        "id": "vLLTmhbfu7f8"
      },
      "execution_count": null,
      "outputs": []
    },
    {
      "cell_type": "code",
      "source": [
        "def cal_accum_avg(frame,accumulated_weight):\n",
        "  global background\n",
        "  if background is None:\n",
        "    background=frame.copy().astype(\"float\")\n",
        "    return None\n",
        "\n",
        "  cv2.accumulateWeighted(frame,background,accumulated_weight)"
      ],
      "metadata": {
        "id": "jZZSMgBovVW9"
      },
      "execution_count": null,
      "outputs": []
    },
    {
      "cell_type": "code",
      "source": [
        "def segment(frame,threshold=25):\n",
        "  global background\n",
        "\n",
        "  diff=cv2.absdiff(background.astype('uint8'),frame)\n",
        "\n",
        "  ret,thresholded=cv2.threshold(diff,threshold,255,cv2.THRESH_BINARY)\n",
        "\n",
        "  image,contours,hierarchy=cv2.findContours(thresholded.copy(),cv2.RETR_EXTERNAL,cv2.CHAIN_APPROX_SIMPLE)\n",
        "\n",
        "  if len(contours)==0:\n",
        "    return None\n",
        "\n",
        "  else:\n",
        "    hand_segment=max(contours,key=cv2.contourArea)\n",
        "\n",
        "    return (thresholded,hand_segment)"
      ],
      "metadata": {
        "id": "ask97gZIwS9Z"
      },
      "execution_count": null,
      "outputs": []
    },
    {
      "cell_type": "code",
      "source": [
        "def count_fingers(thresholded,hand_segment):\n",
        "  conv_hull=cv2.convexHull(hand_segment)\n",
        "\n",
        "  top=tuple(conv_hull[conv_hull[:,:,1].argmin()[0]])\n",
        "  bottom=tuple(conv_hull[conv_hull[:,:,1].argmax()[0]])\n",
        "  left=tuple(conv_hull[conv_hull[:,:,1].argmin()[0]])\n",
        "  right=tuple(conv_hull[conv_hull[:,:,1].argmax()[0]])\n",
        "\n",
        "  cX=(left[0]+right[0])//2\n",
        "  cY=(top[1]+bottom[1])//2\n",
        "  distance=pairwise.euclidean_distances([cX,cY],Y=[left,right,top,bottom])[0]\n",
        "  max_distance=distance.max()\n",
        "  radius=int(0.8*max_distance)\n",
        "  circumference=(2*np.pi*radius)\n",
        "\n",
        "  circular_roi=np.zeros(thresholded.shape[:2],dtype='uint8')\n",
        "\n",
        "  cv2.circle(circular_roi,(cX,cY),radius,255,10)\n",
        "\n",
        "  circular_roi=cv2.bitwise_and(thresholded,thresholded,mask=circular_roi)\n",
        "\n",
        "  image,contours,hierarchy=cv2.findContours(circular_roi.copy(),cv2.RETR_EXTERNAL,cv2.CHAIN_APPROX_NONE)\n",
        "\n",
        "  count=0\n",
        "\n",
        "  for cnt in contours:\n",
        "\n",
        "    (x,y,w,h)=cv2.boundingRect(cnt)\n",
        "\n",
        "    out_of_wrist=((cY+(cY*0.25))>(y+h))\n",
        "\n",
        "    limit_points=((circumference*0.25)>cnt.shape[0])\n",
        "\n",
        "    if out_of_wrist and limit_points:\n",
        "\n",
        "      count+=1\n",
        "\n",
        "  return count\n",
        "\n",
        "\n",
        "\n",
        "\n",
        "\n",
        "\n",
        "\n"
      ],
      "metadata": {
        "id": "FOpE8hHxyI6a"
      },
      "execution_count": null,
      "outputs": []
    },
    {
      "cell_type": "code",
      "source": [
        "# from cv2.gapi import threshold\n",
        "cam=cv2.VideoCapture(0)\n",
        "\n",
        "num_frames=0\n",
        "\n",
        "while True:\n",
        "\n",
        "  ret,frame=cam.read()\n",
        "  frame = cv2.flip(frame, 1)\n",
        "\n",
        "  if frame is None:\n",
        "        break\n",
        "\n",
        "  frame_copy = frame.copy()\n",
        "\n",
        "\n",
        "\n",
        "\n",
        "\n",
        "\n",
        "\n",
        "\n",
        "  roi=frame[roi_top:roi_bottom,roi_right:roi_left]\n",
        "\n",
        "  gray=cv2.cvtColor(roi,cv2.COLOR_BGR2GRAY)\n",
        "\n",
        "  gray=cv2.GaussianBlur(gray,(7,7),0)\n",
        "\n",
        "  if num_frames<60:\n",
        "\n",
        "    cal_accum_avg(gray,accumulated_weight)\n",
        "\n",
        "    if num_frames<=59:\n",
        "\n",
        "      cv2.putText(frame_copy,'WAIT.GETTING BACKGROUND',(200,300),cv2.FONT_HERSHEY_SIMPLEX,1,(0,0,255),2)\n",
        "      cv2.imshow(\"Finger Count\",frame_copy)\n",
        "\n",
        "  else:\n",
        "\n",
        "    hand=segment(gray)\n",
        "\n",
        "    if hand is not None:\n",
        "\n",
        "      thresholded,hand_segment=hand\n",
        "\n",
        "      cv2.drawContours(frame_copy,[hand_segment+(roi_right,roi_top)],-1,(255,0,0),1)\n",
        "\n",
        "      fingers=count_fingers(thresholded,hand_segment)\n",
        "\n",
        "      cv2.putText(frame_copy,str(fingers),(70,50),cv2.FONT_HERSHEY_SIMPLEX,1,(0,0,255),2)\n",
        "\n",
        "      cv2.imshow('Thresholded',thresholded)\n",
        "\n",
        "  cv2.rectangle(frame_copy,(roi_left,roi_top),(roi_right,roi_bottom),(0,0,255),5)\n",
        "\n",
        "  num_frames+=1\n",
        "\n",
        "  cv2.imshow('Finger Count',frame_copy)\n",
        "\n",
        "  k=cv2.waitKey(1)& 0xFF\n",
        "\n",
        "  if k==27:\n",
        "    break\n",
        "\n",
        "cam.release()\n",
        "cv2.destroyAllWindows()\n",
        "\n",
        "\n"
      ],
      "metadata": {
        "id": "nZhEsZbV39yY"
      },
      "execution_count": null,
      "outputs": []
    },
    {
      "cell_type": "code",
      "source": [],
      "metadata": {
        "id": "UOy0mxaI9aQn"
      },
      "execution_count": null,
      "outputs": []
    }
  ]
}